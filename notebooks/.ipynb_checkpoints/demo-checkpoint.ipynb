{
 "cells": [
  {
   "cell_type": "markdown",
   "metadata": {},
   "source": [
    "# Interferometer demo\n",
    "\n",
    "This notebook illustrates two basic functionalities of this package:\n",
    "- creating a random unitary matrix describing an interferometer, and determining how this interferometer can be implemented using two different meshes of beam splitters\n",
    "- creating an interferometer by manually adding beam splitters at selected locations, and then calculating what the corresponding unitary transformation is"
   ]
  },
  {
   "cell_type": "code",
   "execution_count": null,
   "metadata": {},
   "outputs": [],
   "source": [
    "import os\n",
    "\n",
    "if os.getcwd()[-9:]==\"notebooks\":\n",
    "    os.chdir(\"..\")\n",
    "\n",
    "import interferometer as itf"
   ]
  },
  {
   "cell_type": "markdown",
   "metadata": {},
   "source": [
    "# Example 1\n",
    "\n",
    "### First, we generate a random 5x5 unitary matrix describing the interferometer"
   ]
  },
  {
   "cell_type": "code",
   "execution_count": null,
   "metadata": {},
   "outputs": [],
   "source": [
    "U = itf.random_unitary(5)"
   ]
  },
  {
   "cell_type": "markdown",
   "metadata": {},
   "source": [
    "### This interferometer can be implemented using a square mesh of beam splitters and phase shifters\n",
    "\n",
    "This method was shown in Clements, William R., et al. \"Optimal design for universal multiport interferometers.\" Optica 3.12 (2016): 1460-1465."
   ]
  },
  {
   "cell_type": "code",
   "execution_count": null,
   "metadata": {},
   "outputs": [],
   "source": [
    "I = itf.square_decomposition(U)\n",
    "I.draw()"
   ]
  },
  {
   "cell_type": "markdown",
   "metadata": {},
   "source": [
    "### Alternatively, this interferometer can be implemented using a triangular mesh\n",
    "\n",
    "This method was demonstrated in Reck, Michael, et al. \"Experimental realization of any discrete unitary operator.\" Physical review letters 73.1 (1994): 58."
   ]
  },
  {
   "cell_type": "code",
   "execution_count": null,
   "metadata": {},
   "outputs": [],
   "source": [
    "I = itf.triangle_decomposition(U)\n",
    "I.draw()"
   ]
  },
  {
   "cell_type": "markdown",
   "metadata": {},
   "source": [
    "# Example 2\n",
    "\n",
    "We create an interferometer from scratch, and calculate what the overall transformation is. This interferometer will have:\n",
    "- a first beam splitter between modes 1and 2, with angle pi/4 and phase pi/2\n",
    "- a second beam splitter between modes 2 and 3, with angle pi/6 and phase 0"
   ]
  },
  {
   "cell_type": "code",
   "execution_count": null,
   "metadata": {},
   "outputs": [],
   "source": [
    "import numpy as np\n",
    "\n",
    "bs1 = itf.Beamsplitter(1, 2, np.pi/4, np.pi/2)\n",
    "bs2 = itf.Beamsplitter(2, 3, np.pi/6, 0)\n",
    "\n",
    "I = itf.Interferometer()\n",
    "I.add_BS(bs1)\n",
    "I.add_BS(bs2)\n",
    "\n",
    "I.draw()"
   ]
  },
  {
   "cell_type": "code",
   "execution_count": null,
   "metadata": {},
   "outputs": [],
   "source": [
    "I.calculate_transformation()"
   ]
  }
 ],
 "metadata": {
  "interpreter": {
   "hash": "2fa114a34f79a8ebcab85447605fbcf940d0d4f295c1191283af40c223cd62ec"
  },
  "kernelspec": {
   "display_name": "Python 3 (ipykernel)",
   "language": "python",
   "name": "python3"
  },
  "language_info": {
   "codemirror_mode": {
    "name": "ipython",
    "version": 3
   },
   "file_extension": ".py",
   "mimetype": "text/x-python",
   "name": "python",
   "nbconvert_exporter": "python",
   "pygments_lexer": "ipython3",
   "version": "3.8.10"
  }
 },
 "nbformat": 4,
 "nbformat_minor": 2
}
