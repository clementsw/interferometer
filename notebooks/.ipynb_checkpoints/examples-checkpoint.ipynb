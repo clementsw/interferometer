{
 "cells": [
  {
   "cell_type": "markdown",
   "metadata": {},
   "source": [
    "# Interferometer example\n",
    "\n",
    "This notebook illustrates the basic functionalities of this package: creating a random unitary matrix describing an interferometer, and determining how this interferometer can be implemented using two different meshes of beam splitters"
   ]
  },
  {
   "cell_type": "code",
   "execution_count": null,
   "metadata": {},
   "outputs": [],
   "source": [
    "import os\n",
    "\n",
    "if os.getcwd()[-9:]==\"notebooks\":\n",
    "    os.chdir(\"..\")\n",
    "\n",
    "import interferometer as itf"
   ]
  },
  {
   "cell_type": "markdown",
   "metadata": {},
   "source": [
    "### First, we generate a random 5x5 unitary matrix describing the interferometer"
   ]
  },
  {
   "cell_type": "code",
   "execution_count": null,
   "metadata": {},
   "outputs": [],
   "source": [
    "U = itf.random_unitary(5)"
   ]
  },
  {
   "cell_type": "markdown",
   "metadata": {},
   "source": [
    "### This interferometer can be implemented using a square mesh of beam splitters and phase shifters\n",
    "\n",
    "This method was shown in Clements, William R., et al. \"Optimal design for universal multiport interferometers.\" Optica 3.12 (2016): 1460-1465."
   ]
  },
  {
   "cell_type": "code",
   "execution_count": null,
   "metadata": {},
   "outputs": [],
   "source": [
    "I = itf.square_decomposition(U)\n",
    "I.draw()"
   ]
  },
  {
   "cell_type": "markdown",
   "metadata": {},
   "source": [
    "### Alternatively, this interferometer can be implemented using a triangular mesh\n",
    "\n",
    "This method was demonstrated in Reck, Michael, et al. \"Experimental realization of any discrete unitary operator.\" Physical review letters 73.1 (1994): 58."
   ]
  },
  {
   "cell_type": "code",
   "execution_count": null,
   "metadata": {},
   "outputs": [],
   "source": [
    "I = itf.triangle_decomposition(U)\n",
    "I.draw()"
   ]
  }
 ],
 "metadata": {
  "interpreter": {
   "hash": "2fa114a34f79a8ebcab85447605fbcf940d0d4f295c1191283af40c223cd62ec"
  },
  "kernelspec": {
   "display_name": "Python 3 (ipykernel)",
   "language": "python",
   "name": "python3"
  },
  "language_info": {
   "codemirror_mode": {
    "name": "ipython",
    "version": 3
   },
   "file_extension": ".py",
   "mimetype": "text/x-python",
   "name": "python",
   "nbconvert_exporter": "python",
   "pygments_lexer": "ipython3",
   "version": "3.8.10"
  }
 },
 "nbformat": 4,
 "nbformat_minor": 2
}
